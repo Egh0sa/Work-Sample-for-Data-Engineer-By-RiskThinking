{
 "cells": [
  {
   "cell_type": "code",
   "execution_count": 1,
   "id": "7264f659-ed66-455c-ba3a-7394b06a84ca",
   "metadata": {},
   "outputs": [
    {
     "name": "stdout",
     "output_type": "stream",
     "text": [
      "Requirement already satisfied: xgboost in d:\\npower_canada\\anaconda\\lib\\site-packages (1.7.5)\n",
      "Requirement already satisfied: numpy in d:\\npower_canada\\anaconda\\lib\\site-packages (from xgboost) (1.21.5)\n",
      "Requirement already satisfied: scipy in d:\\npower_canada\\anaconda\\lib\\site-packages (from xgboost) (1.9.1)\n",
      "Note: you may need to restart the kernel to use updated packages.\n"
     ]
    }
   ],
   "source": [
    "pip install xgboost"
   ]
  },
  {
   "cell_type": "code",
   "execution_count": 7,
   "id": "6ac110eb-eeec-4ffe-9a94-2ed20cef0736",
   "metadata": {},
   "outputs": [],
   "source": [
    "import pandas as pd\n",
    "import xgboost as xgb\n",
    "from sklearn.metrics import mean_absolute_error, mean_squared_error\n",
    "from sklearn.model_selection import train_test_split\n"
   ]
  },
  {
   "cell_type": "code",
   "execution_count": 8,
   "id": "3d6193b2-b844-4b92-89e0-9b58891febfc",
   "metadata": {},
   "outputs": [],
   "source": [
    "# Load the dataset from Problem 2\n",
    "df = pd.read_parquet(r\"C:\\Users\\Ego Men\\Anaconda_codes\\RiskThinking\\Problem 1 - Raw Data Processing.parquet\")"
   ]
  },
  {
   "cell_type": "code",
   "execution_count": 9,
   "id": "5c563730-75d3-4183-b2e2-7a4d19bc33a4",
   "metadata": {},
   "outputs": [],
   "source": [
    "# Remove rows with NaN values\n",
    "df.dropna(inplace=True)\n"
   ]
  },
  {
   "cell_type": "code",
   "execution_count": 10,
   "id": "c1ceca5b-6bcd-472e-bc39-378a461fdf1c",
   "metadata": {},
   "outputs": [],
   "source": [
    "# Calculate the features\n",
    "df['vol_moving_avg'] = df.groupby('Symbol')['Volume'].rolling(30).mean().values\n",
    "df['adj_close_rolling_med'] = df.groupby('Symbol')['Adj Close'].rolling(30).median().values\n"
   ]
  },
  {
   "cell_type": "code",
   "execution_count": 11,
   "id": "af1201bf-5f66-43a5-ae33-7cf9e5735601",
   "metadata": {},
   "outputs": [],
   "source": [
    "# Remove rows with NaN values\n",
    "df.dropna(inplace=True)\n"
   ]
  },
  {
   "cell_type": "code",
   "execution_count": 12,
   "id": "48fb564d-6f80-4593-83ef-49cf5bd32588",
   "metadata": {},
   "outputs": [],
   "source": [
    "# Select features and target\n",
    "features = ['vol_moving_avg', 'adj_close_rolling_med']\n",
    "target = 'Volume'"
   ]
  },
  {
   "cell_type": "code",
   "execution_count": 13,
   "id": "0ae431cf-356c-4796-86dc-d42045a6423a",
   "metadata": {},
   "outputs": [],
   "source": [
    "X = df[features]\n",
    "y = df[target]"
   ]
  },
  {
   "cell_type": "code",
   "execution_count": 14,
   "id": "7f64d08b-f722-4e92-9ef2-e9e00ae84e06",
   "metadata": {},
   "outputs": [],
   "source": [
    "# Split data into train and test sets\n",
    "X_train, X_test, y_train, y_test = train_test_split(X, y, test_size=0.2, random_state=42)\n"
   ]
  },
  {
   "cell_type": "code",
   "execution_count": 15,
   "id": "0c50261e-55b2-4b06-b874-433451fc5e1f",
   "metadata": {},
   "outputs": [],
   "source": [
    "# Define the XGBoost model\n",
    "params = {\n",
    "    'n_estimators': 100,\n",
    "    'max_depth': 6,\n",
    "    'min_child_weight': 1,\n",
    "    'gamma': 0,\n",
    "    'subsample': 0.8,\n",
    "    'colsample_bytree': 0.8,\n",
    "    'objective': 'reg:squarederror',\n",
    "    'nthread': 4,\n",
    "    'seed': 42\n",
    "}"
   ]
  },
  {
   "cell_type": "code",
   "execution_count": 16,
   "id": "f7414213-3276-4a31-87ed-7a08003cc239",
   "metadata": {},
   "outputs": [
    {
     "data": {
      "text/plain": [
       "XGBRegressor(base_score=None, booster=None, callbacks=None,\n",
       "             colsample_bylevel=None, colsample_bynode=None,\n",
       "             colsample_bytree=0.8, early_stopping_rounds=None,\n",
       "             enable_categorical=False, eval_metric=None, feature_types=None,\n",
       "             gamma=0, gpu_id=None, grow_policy=None, importance_type=None,\n",
       "             interaction_constraints=None, learning_rate=None, max_bin=None,\n",
       "             max_cat_threshold=None, max_cat_to_onehot=None,\n",
       "             max_delta_step=None, max_depth=6, max_leaves=None,\n",
       "             min_child_weight=1, missing=nan, monotone_constraints=None,\n",
       "             n_estimators=100, n_jobs=None, nthread=4, num_parallel_tree=None,\n",
       "             predictor=None, ...)"
      ]
     },
     "execution_count": 16,
     "metadata": {},
     "output_type": "execute_result"
    }
   ],
   "source": [
    "# Train the model\n",
    "model = xgb.XGBRegressor(**params)\n",
    "model.fit(X_train, y_train)"
   ]
  },
  {
   "cell_type": "code",
   "execution_count": 17,
   "id": "1d369955-c517-4b6d-b12e-cc2c942e4850",
   "metadata": {},
   "outputs": [],
   "source": [
    "# Make predictions on test data\n",
    "y_pred = model.predict(X_test)"
   ]
  },
  {
   "cell_type": "code",
   "execution_count": 18,
   "id": "45dc2d47-da64-4404-b43b-571258958861",
   "metadata": {},
   "outputs": [],
   "source": [
    "# Evaluate the model\n",
    "mae = mean_absolute_error(y_test, y_pred)\n",
    "mse = mean_squared_error(y_test, y_pred)"
   ]
  },
  {
   "cell_type": "code",
   "execution_count": 19,
   "id": "85db9039-cc94-4e74-a173-8eea5bef2af2",
   "metadata": {},
   "outputs": [],
   "source": [
    "# Persist the trained model\n",
    "model.save_model(r\"C:\\Users\\Ego Men\\Anaconda_codes\\RiskThinking\\Problem3_xgb.model\")\n"
   ]
  },
  {
   "cell_type": "code",
   "execution_count": 20,
   "id": "ce42cb5d-9232-4b4b-bbce-07b2f313858d",
   "metadata": {},
   "outputs": [],
   "source": [
    "# Persist the training metrics\n",
    "with open(r\"C:\\Users\\Ego Men\\Anaconda_codes\\RiskThinking\\Problem3_xgb.model\"  , 'w') as f:\n",
    "    f.write(f'MAE: {mae}, MSE: {mse}')"
   ]
  },
  {
   "cell_type": "code",
   "execution_count": null,
   "id": "06dd6f2f-ffa2-470b-a589-cdc9e7053806",
   "metadata": {},
   "outputs": [],
   "source": []
  }
 ],
 "metadata": {
  "kernelspec": {
   "display_name": "Python 3 (ipykernel)",
   "language": "python",
   "name": "python3"
  },
  "language_info": {
   "codemirror_mode": {
    "name": "ipython",
    "version": 3
   },
   "file_extension": ".py",
   "mimetype": "text/x-python",
   "name": "python",
   "nbconvert_exporter": "python",
   "pygments_lexer": "ipython3",
   "version": "3.9.13"
  }
 },
 "nbformat": 4,
 "nbformat_minor": 5
}
