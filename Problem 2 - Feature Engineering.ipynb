{
 "cells": [
  {
   "cell_type": "code",
   "execution_count": 1,
   "id": "51ff37ac-9877-45f7-bcb2-64c14975075b",
   "metadata": {},
   "outputs": [],
   "source": [
    "import pandas as pd\n",
    "import os\n",
    "import pyarrow as pa\n",
    "import pyarrow.parquet as pq"
   ]
  },
  {
   "cell_type": "code",
   "execution_count": 2,
   "id": "d8aa155e-1e8c-4719-9884-6b467b596d7d",
   "metadata": {},
   "outputs": [],
   "source": [
    "df = pd.read_parquet(r\"C:\\Users\\Ego Men\\Anaconda_codes\\RiskThinking\\Problem 1 - Raw Data Processing.parquet\")"
   ]
  },
  {
   "cell_type": "code",
   "execution_count": 3,
   "id": "7fdac297-7e43-45c2-a7d8-c3cb1ce877cd",
   "metadata": {},
   "outputs": [
    {
     "data": {
      "text/html": [
       "<div>\n",
       "<style scoped>\n",
       "    .dataframe tbody tr th:only-of-type {\n",
       "        vertical-align: middle;\n",
       "    }\n",
       "\n",
       "    .dataframe tbody tr th {\n",
       "        vertical-align: top;\n",
       "    }\n",
       "\n",
       "    .dataframe thead th {\n",
       "        text-align: right;\n",
       "    }\n",
       "</style>\n",
       "<table border=\"1\" class=\"dataframe\">\n",
       "  <thead>\n",
       "    <tr style=\"text-align: right;\">\n",
       "      <th></th>\n",
       "      <th>Symbol</th>\n",
       "      <th>Security Name</th>\n",
       "      <th>Date</th>\n",
       "      <th>Open</th>\n",
       "      <th>High</th>\n",
       "      <th>Low</th>\n",
       "      <th>Close</th>\n",
       "      <th>Adj Close</th>\n",
       "      <th>Volume</th>\n",
       "    </tr>\n",
       "  </thead>\n",
       "  <tbody>\n",
       "    <tr>\n",
       "      <th>0</th>\n",
       "      <td>A</td>\n",
       "      <td>Agilent Technologies, Inc. Common Stock</td>\n",
       "      <td>1999-11-18</td>\n",
       "      <td>32.546494</td>\n",
       "      <td>35.765381</td>\n",
       "      <td>28.612303</td>\n",
       "      <td>31.473534</td>\n",
       "      <td>27.068665</td>\n",
       "      <td>62546300.0</td>\n",
       "    </tr>\n",
       "    <tr>\n",
       "      <th>1</th>\n",
       "      <td>AA</td>\n",
       "      <td>Alcoa Corporation Common Stock</td>\n",
       "      <td>1999-11-19</td>\n",
       "      <td>30.713520</td>\n",
       "      <td>30.758226</td>\n",
       "      <td>28.478184</td>\n",
       "      <td>28.880543</td>\n",
       "      <td>24.838577</td>\n",
       "      <td>15234100.0</td>\n",
       "    </tr>\n",
       "    <tr>\n",
       "      <th>2</th>\n",
       "      <td>AAAU</td>\n",
       "      <td>Perth Mint Physical Gold ETF</td>\n",
       "      <td>1999-11-22</td>\n",
       "      <td>29.551144</td>\n",
       "      <td>31.473534</td>\n",
       "      <td>28.657009</td>\n",
       "      <td>31.473534</td>\n",
       "      <td>27.068665</td>\n",
       "      <td>6577800.0</td>\n",
       "    </tr>\n",
       "    <tr>\n",
       "      <th>3</th>\n",
       "      <td>AACG</td>\n",
       "      <td>ATA Creativity Global - American Depositary Sh...</td>\n",
       "      <td>1999-11-23</td>\n",
       "      <td>30.400572</td>\n",
       "      <td>31.205294</td>\n",
       "      <td>28.612303</td>\n",
       "      <td>28.612303</td>\n",
       "      <td>24.607880</td>\n",
       "      <td>5975600.0</td>\n",
       "    </tr>\n",
       "    <tr>\n",
       "      <th>4</th>\n",
       "      <td>AADR</td>\n",
       "      <td>AdvisorShares Dorsey Wright ADR ETF</td>\n",
       "      <td>1999-11-24</td>\n",
       "      <td>28.701717</td>\n",
       "      <td>29.998211</td>\n",
       "      <td>28.612303</td>\n",
       "      <td>29.372318</td>\n",
       "      <td>25.261524</td>\n",
       "      <td>4843200.0</td>\n",
       "    </tr>\n",
       "  </tbody>\n",
       "</table>\n",
       "</div>"
      ],
      "text/plain": [
       "  Symbol                                      Security Name       Date   \n",
       "0      A            Agilent Technologies, Inc. Common Stock 1999-11-18  \\\n",
       "1     AA                    Alcoa Corporation Common Stock  1999-11-19   \n",
       "2   AAAU                       Perth Mint Physical Gold ETF 1999-11-22   \n",
       "3   AACG  ATA Creativity Global - American Depositary Sh... 1999-11-23   \n",
       "4   AADR                AdvisorShares Dorsey Wright ADR ETF 1999-11-24   \n",
       "\n",
       "        Open       High        Low      Close  Adj Close      Volume  \n",
       "0  32.546494  35.765381  28.612303  31.473534  27.068665  62546300.0  \n",
       "1  30.713520  30.758226  28.478184  28.880543  24.838577  15234100.0  \n",
       "2  29.551144  31.473534  28.657009  31.473534  27.068665   6577800.0  \n",
       "3  30.400572  31.205294  28.612303  28.612303  24.607880   5975600.0  \n",
       "4  28.701717  29.998211  28.612303  29.372318  25.261524   4843200.0  "
      ]
     },
     "execution_count": 3,
     "metadata": {},
     "output_type": "execute_result"
    }
   ],
   "source": [
    "df.head()"
   ]
  },
  {
   "cell_type": "code",
   "execution_count": 4,
   "id": "19a0138f-84e5-4a89-9513-711618aad9de",
   "metadata": {},
   "outputs": [],
   "source": [
    "# Remove duplicate rows based on index and columns\n",
    "df = df[~df.index.duplicated(keep='first')]"
   ]
  },
  {
   "cell_type": "code",
   "execution_count": 5,
   "id": "d7e555b9-4df0-458a-815a-1c6036a7b012",
   "metadata": {},
   "outputs": [],
   "source": [
    "# Calculate 30-day moving average of trading volume\n",
    "df['vol_moving_avg'] = df.groupby('Symbol')['Volume'].rolling(30).mean().reset_index(level=0, drop=True)"
   ]
  },
  {
   "cell_type": "code",
   "execution_count": 6,
   "id": "079f8f4e-5e5f-4311-bb44-fca503160fcd",
   "metadata": {},
   "outputs": [],
   "source": [
    "#Calculate the moving average of the trading volume (Volume) of 30 days per each stock and ETF, and retain it in a newly added column vol_moving_avg.\n",
    "df['adj_close_rolling_med'] = df.groupby('Symbol')['Adj Close'].rolling(30).median().reset_index(level=0, drop=True)"
   ]
  },
  {
   "cell_type": "code",
   "execution_count": 7,
   "id": "d624874b-fea2-4e11-9bd1-46b4529c00ea",
   "metadata": {},
   "outputs": [],
   "source": [
    "# Create new directory for processed data if it doesn't exist\n",
    "if not os.path.exists('Problem_2'):\n",
    "    os.mkdir('Problem_2')"
   ]
  },
  {
   "cell_type": "code",
   "execution_count": 9,
   "id": "f7529795-9492-4d49-bef9-e1d0c77509c5",
   "metadata": {},
   "outputs": [],
   "source": [
    "# Convert DataFrame to PyArrow table\n",
    "table = pa.Table.from_pandas(df)"
   ]
  },
  {
   "cell_type": "code",
   "execution_count": 10,
   "id": "7fdad617-3082-43a4-b08a-aadc74783ed9",
   "metadata": {},
   "outputs": [],
   "source": [
    "# Save PyArrow table in Parquet format in the new directory\n",
    "pq.write_table(table, 'Problem_2/Problem 2 - Feature Engineering.parquet')"
   ]
  },
  {
   "cell_type": "code",
   "execution_count": 13,
   "id": "af199dae-97bf-4f06-8cb4-2c68726b585a",
   "metadata": {},
   "outputs": [],
   "source": [
    "df.to_parquet(r\"C:\\Users\\Ego Men\\Anaconda_codes\\RiskThinking\\Problem 2(backup).parquet\")"
   ]
  },
  {
   "cell_type": "code",
   "execution_count": 1,
   "id": "27900714-b1f1-4d9a-be75-e0eec0a9c2e5",
   "metadata": {},
   "outputs": [
    {
     "ename": "NameError",
     "evalue": "name 'df' is not defined",
     "output_type": "error",
     "traceback": [
      "\u001b[1;31m---------------------------------------------------------------------------\u001b[0m",
      "\u001b[1;31mNameError\u001b[0m                                 Traceback (most recent call last)",
      "\u001b[1;32m~\\AppData\\Local\\Temp\\ipykernel_3172\\964094849.py\u001b[0m in \u001b[0;36m<module>\u001b[1;34m\u001b[0m\n\u001b[1;32m----> 1\u001b[1;33m \u001b[0mdf\u001b[0m\u001b[1;33m.\u001b[0m\u001b[0mhead\u001b[0m\u001b[1;33m(\u001b[0m\u001b[1;33m)\u001b[0m\u001b[1;33m\u001b[0m\u001b[1;33m\u001b[0m\u001b[0m\n\u001b[0m",
      "\u001b[1;31mNameError\u001b[0m: name 'df' is not defined"
     ]
    }
   ],
   "source": [
    "df.head()"
   ]
  },
  {
   "cell_type": "code",
   "execution_count": null,
   "id": "45d63ca4-5bd8-47e3-96ea-8440445186dc",
   "metadata": {},
   "outputs": [],
   "source": []
  }
 ],
 "metadata": {
  "kernelspec": {
   "display_name": "Python 3 (ipykernel)",
   "language": "python",
   "name": "python3"
  },
  "language_info": {
   "codemirror_mode": {
    "name": "ipython",
    "version": 3
   },
   "file_extension": ".py",
   "mimetype": "text/x-python",
   "name": "python",
   "nbconvert_exporter": "python",
   "pygments_lexer": "ipython3",
   "version": "3.9.13"
  }
 },
 "nbformat": 4,
 "nbformat_minor": 5
}
