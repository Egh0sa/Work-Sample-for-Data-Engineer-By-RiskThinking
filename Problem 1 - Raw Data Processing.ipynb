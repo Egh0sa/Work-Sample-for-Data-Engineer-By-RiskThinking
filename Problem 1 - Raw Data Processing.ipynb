{
 "cells": [
  {
   "cell_type": "code",
   "execution_count": 1,
   "id": "659ac5a4-8f74-4098-a91a-23cda07b6e25",
   "metadata": {},
   "outputs": [],
   "source": [
    "import pandas as pd\n",
    "import pyarrow.parquet as pq\n",
    "import glob"
   ]
  },
  {
   "cell_type": "code",
   "execution_count": 2,
   "id": "6cf18cf9-30c5-4c32-bfd7-92a369b13990",
   "metadata": {},
   "outputs": [],
   "source": [
    "#load ETF data\n",
    "etf_files = glob.glob(r\"C:\\Users\\Ego Men\\Anaconda_codes\\CSVs\\archive\\etfs\\*.csv\")\n",
    "etf_dfs = []\n",
    "for file in etf_files:\n",
    "    df = pd.read_csv(file)\n",
    "    etf_dfs.append(df)\n",
    "etf_df = pd.concat(etf_dfs)"
   ]
  },
  {
   "cell_type": "code",
   "execution_count": 3,
   "id": "79b1f6b0-6fc5-45b0-be3f-a6a27f8ebfde",
   "metadata": {},
   "outputs": [],
   "source": [
    "#Load stock data\n",
    "stock_files = glob.glob(r\"C:\\Users\\Ego Men\\Anaconda_codes\\CSVs\\archive\\stocks\\*.csv\")\n",
    "stock_dfs = []\n",
    "for file in stock_files:\n",
    "    df = pd.read_csv(file)\n",
    "    stock_dfs.append(df)\n",
    "stock_df = pd.concat(stock_dfs)"
   ]
  },
  {
   "cell_type": "code",
   "execution_count": 4,
   "id": "b8d4b506-addf-40e3-a905-4aed899d489f",
   "metadata": {},
   "outputs": [],
   "source": [
    "#load symbol data\n",
    "symbols_df= pd.read_csv(r\"C:\\Users\\Ego Men\\Anaconda_codes\\CSVs\\archive\\symbols_valid_meta.csv\")"
   ]
  },
  {
   "cell_type": "code",
   "execution_count": 5,
   "id": "ace22a55-5448-424f-be29-466b7dd7f946",
   "metadata": {},
   "outputs": [],
   "source": [
    "# Concatenate etf_df and stock_df\n",
    "df_stocketf=  pd.concat([stock_df, etf_df])"
   ]
  },
  {
   "cell_type": "code",
   "execution_count": 7,
   "id": "39582957-12c4-4d4d-bbdd-398dc6d85561",
   "metadata": {},
   "outputs": [],
   "source": [
    "# Concatenate etf_df and symbols_df along columns axis including only Select  required columns\n",
    "df_etfsymbol = pd.concat([df_stocketf, symbols_df], axis=1)[['Symbol', 'Security Name', 'Date', 'Open', 'High', 'Low', 'Close', 'Adj Close', 'Volume']]"
   ]
  },
  {
   "cell_type": "code",
   "execution_count": 8,
   "id": "fbb8c4bc-b573-495c-b322-d691cc4961c8",
   "metadata": {},
   "outputs": [
    {
     "data": {
      "text/html": [
       "<div>\n",
       "<style scoped>\n",
       "    .dataframe tbody tr th:only-of-type {\n",
       "        vertical-align: middle;\n",
       "    }\n",
       "\n",
       "    .dataframe tbody tr th {\n",
       "        vertical-align: top;\n",
       "    }\n",
       "\n",
       "    .dataframe thead th {\n",
       "        text-align: right;\n",
       "    }\n",
       "</style>\n",
       "<table border=\"1\" class=\"dataframe\">\n",
       "  <thead>\n",
       "    <tr style=\"text-align: right;\">\n",
       "      <th></th>\n",
       "      <th>Symbol</th>\n",
       "      <th>Security Name</th>\n",
       "      <th>Date</th>\n",
       "      <th>Open</th>\n",
       "      <th>High</th>\n",
       "      <th>Low</th>\n",
       "      <th>Close</th>\n",
       "      <th>Adj Close</th>\n",
       "      <th>Volume</th>\n",
       "    </tr>\n",
       "  </thead>\n",
       "  <tbody>\n",
       "    <tr>\n",
       "      <th>0</th>\n",
       "      <td>A</td>\n",
       "      <td>Agilent Technologies, Inc. Common Stock</td>\n",
       "      <td>1999-11-18</td>\n",
       "      <td>32.546494</td>\n",
       "      <td>35.765381</td>\n",
       "      <td>28.612303</td>\n",
       "      <td>31.473534</td>\n",
       "      <td>27.068665</td>\n",
       "      <td>62546300.0</td>\n",
       "    </tr>\n",
       "    <tr>\n",
       "      <th>1</th>\n",
       "      <td>AA</td>\n",
       "      <td>Alcoa Corporation Common Stock</td>\n",
       "      <td>1999-11-19</td>\n",
       "      <td>30.713520</td>\n",
       "      <td>30.758226</td>\n",
       "      <td>28.478184</td>\n",
       "      <td>28.880543</td>\n",
       "      <td>24.838577</td>\n",
       "      <td>15234100.0</td>\n",
       "    </tr>\n",
       "    <tr>\n",
       "      <th>2</th>\n",
       "      <td>AAAU</td>\n",
       "      <td>Perth Mint Physical Gold ETF</td>\n",
       "      <td>1999-11-22</td>\n",
       "      <td>29.551144</td>\n",
       "      <td>31.473534</td>\n",
       "      <td>28.657009</td>\n",
       "      <td>31.473534</td>\n",
       "      <td>27.068665</td>\n",
       "      <td>6577800.0</td>\n",
       "    </tr>\n",
       "    <tr>\n",
       "      <th>3</th>\n",
       "      <td>AACG</td>\n",
       "      <td>ATA Creativity Global - American Depositary Sh...</td>\n",
       "      <td>1999-11-23</td>\n",
       "      <td>30.400572</td>\n",
       "      <td>31.205294</td>\n",
       "      <td>28.612303</td>\n",
       "      <td>28.612303</td>\n",
       "      <td>24.607880</td>\n",
       "      <td>5975600.0</td>\n",
       "    </tr>\n",
       "    <tr>\n",
       "      <th>4</th>\n",
       "      <td>AADR</td>\n",
       "      <td>AdvisorShares Dorsey Wright ADR ETF</td>\n",
       "      <td>1999-11-24</td>\n",
       "      <td>28.701717</td>\n",
       "      <td>29.998211</td>\n",
       "      <td>28.612303</td>\n",
       "      <td>29.372318</td>\n",
       "      <td>25.261524</td>\n",
       "      <td>4843200.0</td>\n",
       "    </tr>\n",
       "  </tbody>\n",
       "</table>\n",
       "</div>"
      ],
      "text/plain": [
       "  Symbol                                      Security Name        Date   \n",
       "0      A            Agilent Technologies, Inc. Common Stock  1999-11-18  \\\n",
       "1     AA                    Alcoa Corporation Common Stock   1999-11-19   \n",
       "2   AAAU                       Perth Mint Physical Gold ETF  1999-11-22   \n",
       "3   AACG  ATA Creativity Global - American Depositary Sh...  1999-11-23   \n",
       "4   AADR                AdvisorShares Dorsey Wright ADR ETF  1999-11-24   \n",
       "\n",
       "        Open       High        Low      Close  Adj Close      Volume  \n",
       "0  32.546494  35.765381  28.612303  31.473534  27.068665  62546300.0  \n",
       "1  30.713520  30.758226  28.478184  28.880543  24.838577  15234100.0  \n",
       "2  29.551144  31.473534  28.657009  31.473534  27.068665   6577800.0  \n",
       "3  30.400572  31.205294  28.612303  28.612303  24.607880   5975600.0  \n",
       "4  28.701717  29.998211  28.612303  29.372318  25.261524   4843200.0  "
      ]
     },
     "execution_count": 8,
     "metadata": {},
     "output_type": "execute_result"
    }
   ],
   "source": [
    "df_etfsymbol.head()"
   ]
  },
  {
   "cell_type": "code",
   "execution_count": 9,
   "id": "4ede8891-1433-42a0-ae1c-3c0da487cf06",
   "metadata": {},
   "outputs": [],
   "source": [
    "# Convert the 'Date' column to datetime format:\n",
    "df_etfsymbol['Date'] = pd.to_datetime(df_etfsymbol['Date'])"
   ]
  },
  {
   "cell_type": "code",
   "execution_count": 12,
   "id": "de221681-124d-4d6c-8a2b-fcc01a618079",
   "metadata": {},
   "outputs": [],
   "source": [
    "# Save the resulting dataset into a structured format, such as Parquet:\n",
    "df_etfsymbol.to_parquet(r\"C:\\Users\\Ego Men\\Anaconda_codes\\RiskThinking\\Problem 1 - Raw Data Processing.parquet\")"
   ]
  },
  {
   "cell_type": "code",
   "execution_count": null,
   "id": "33f3cff5-78e6-4bab-82a0-cd31cd2b2ba7",
   "metadata": {},
   "outputs": [],
   "source": []
  }
 ],
 "metadata": {
  "kernelspec": {
   "display_name": "Python 3 (ipykernel)",
   "language": "python",
   "name": "python3"
  },
  "language_info": {
   "codemirror_mode": {
    "name": "ipython",
    "version": 3
   },
   "file_extension": ".py",
   "mimetype": "text/x-python",
   "name": "python",
   "nbconvert_exporter": "python",
   "pygments_lexer": "ipython3",
   "version": "3.9.13"
  }
 },
 "nbformat": 4,
 "nbformat_minor": 5
}
